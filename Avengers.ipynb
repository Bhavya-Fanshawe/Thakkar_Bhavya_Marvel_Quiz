{
 "cells": [
  {
   "cell_type": "code",
   "execution_count": 1,
   "id": "9a927cd4",
   "metadata": {},
   "outputs": [],
   "source": [
    "QuestionsData = {'Questions':{1:'Are you from earth?', \n",
    "                          2:'Are you male?', \n",
    "                          3:'Are you with the avengers', \n",
    "                          4:'Do you have superpowers?',\n",
    "                          5:'Are you a god?'},\n",
    "             'Points':[1,2,4,8,16]\n",
    "            }"
   ]
  },
  {
   "cell_type": "code",
   "execution_count": 2,
   "id": "1ce1f185",
   "metadata": {},
   "outputs": [],
   "source": [
    "CharactersData = {'Characters':['Hulk', 'Groot', 'Thanos', 'Natasha', 'Odin'],\n",
    "         'Scores':[15, 12, 2, 5, 30]}"
   ]
  },
  {
   "cell_type": "code",
   "execution_count": 3,
   "id": "2b7ec250",
   "metadata": {},
   "outputs": [],
   "source": [
    "Answers = ['Yes', 'Yes', 'Yes', 'No', 'No']"
   ]
  },
  {
   "cell_type": "code",
   "execution_count": 4,
   "id": "506eae53",
   "metadata": {},
   "outputs": [],
   "source": [
    "def Calculate(Answers, CharactersData, QuestionsData):\n",
    "    score = 0\n",
    "    for i in range(0,len(Answers)):\n",
    "        if Answers[i] == 'Yes':\n",
    "            score = score + QuestionsData['Points'][i]\n",
    "    checker = 0\n",
    "    for i in range(0, len(CharactersData['Scores'])):\n",
    "        if CharactersData['Scores'][i] == score:\n",
    "            checker = 1 \n",
    "            return(CharactersData['Characters'][i])\n",
    "    if checker == 0:\n",
    "        return(\"No character found\")"
   ]
  },
  {
   "cell_type": "code",
   "execution_count": 5,
   "id": "e3a08f24",
   "metadata": {},
   "outputs": [
    {
     "data": {
      "text/plain": [
       "'No character found'"
      ]
     },
     "execution_count": 5,
     "metadata": {},
     "output_type": "execute_result"
    }
   ],
   "source": [
    "Calculate(Answers, CharactersData, QuestionsData)"
   ]
  }
 ],
 "metadata": {
  "kernelspec": {
   "display_name": "Python 3 (ipykernel)",
   "language": "python",
   "name": "python3"
  },
  "language_info": {
   "codemirror_mode": {
    "name": "ipython",
    "version": 3
   },
   "file_extension": ".py",
   "mimetype": "text/x-python",
   "name": "python",
   "nbconvert_exporter": "python",
   "pygments_lexer": "ipython3",
   "version": "3.9.7"
  }
 },
 "nbformat": 4,
 "nbformat_minor": 5
}
